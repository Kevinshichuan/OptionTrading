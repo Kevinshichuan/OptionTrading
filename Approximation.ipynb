{
 "cells": [
  {
   "cell_type": "code",
   "execution_count": null,
   "metadata": {},
   "outputs": [],
   "source": [
    "# PDE for Put option\n",
    "# p_t+0.5*sigma^2*s^2*P_{ss}+r*s*P_{s}-r*P = 0\n",
    "# Boundary: \n",
    "# Now we approximate the solution to the above PDE"
   ]
  },
  {
   "cell_type": "code",
   "execution_count": 87,
   "metadata": {},
   "outputs": [
    {
     "name": "stdout",
     "output_type": "stream",
     "text": [
      "83\n"
     ]
    }
   ],
   "source": [
    "# Global Constant\n",
    "S_list = list(range(0, 50, 10)) + \\\n",
    "           list(range(45, 85, 5)) + \\\n",
    "           list(range(82, 91, 2)) + \\\n",
    "           list(range(91, 110)) + \\\n",
    "           list(range(110, 122, 2)) + \\\n",
    "           list(range(125, 165, 5)) + \\\n",
    "           list(range(170, 210, 10)) + \\\n",
    "           list(range(220, 310, 20)) + \\\n",
    "           list(range(350, 1050, 50)) + \\\n",
    "           list(range(2000, 10001, 1000))\n",
    "\n",
    "K = 100\n",
    "T = 0.25\n",
    "r= 0.1\n",
    "sigma = 0.8\n",
    "S_0 = 100\n",
    "N = 25\n",
    "\n",
    "print(len(S_list))"
   ]
  },
  {
   "cell_type": "code",
   "execution_count": 88,
   "metadata": {},
   "outputs": [
    {
     "name": "stdout",
     "output_type": "stream",
     "text": [
      "The Black-Scholes price of the European put option is: 14.451905854467874\n"
     ]
    }
   ],
   "source": [
    "import numpy as np\n",
    "import scipy.stats as si\n",
    "\n",
    "def european_put(S, K, T, r, sigma):\n",
    "    \"\"\"\n",
    "    Calculate the Black-Scholes price for a European Put Option.\n",
    "\n",
    "    Parameters:\n",
    "    S (float): Current stock price\n",
    "    K (float): Strike price of the option\n",
    "    T (float): Time to maturity (in years)\n",
    "    r (float): Risk-free interest rate (annual rate, continuous compounding)\n",
    "    sigma (float): Volatility of the underlying stock (annual standard deviation of log returns)\n",
    "\n",
    "    Returns:\n",
    "    float: Black-Scholes price of the European Put Option\n",
    "    \"\"\"\n",
    "    \n",
    "    # Calculating d1 and d2\n",
    "    d1 = (np.log(S / K) + (r + 0.5 * sigma**2) * T) / (sigma * np.sqrt(T))\n",
    "    d2 = d1 - sigma * np.sqrt(T)\n",
    "    \n",
    "    # Calculate the put price using the Black-Scholes formula\n",
    "    put_price = K * np.exp(-r * T) * si.norm.cdf(-d2) - S * si.norm.cdf(-d1)\n",
    "    \n",
    "    return put_price\n",
    "\n",
    "\n",
    "\n",
    "put_price = european_put(S_0, K, T, r, sigma)\n",
    "print(f\"The Black-Scholes price of the European put option is: {put_price}\")\n",
    "\n"
   ]
  },
  {
   "cell_type": "code",
   "execution_count": 89,
   "metadata": {},
   "outputs": [
    {
     "name": "stdout",
     "output_type": "stream",
     "text": [
      "1.259050450304512e+51\n",
      "-4.914886494666574e+88\n",
      "-4.367037416296519e+149\n",
      "-1.3384348744761135e+240\n",
      "nan\n"
     ]
    }
   ],
   "source": [
    "# Explicit Scheme\n",
    "\n",
    "def ExplicitScheme(K,T,S_list,N):\n",
    "    \n",
    "    M = len(S_list)\n",
    "    dtau = T/N\n",
    "   #print(dtau)\n",
    "    # grid for saving the solutions\n",
    "    res = [[0 for i in range(N+1)] for j in range(M)]\n",
    "    #print(len(res[0]))\n",
    "    for i in range(M):\n",
    "        res[i][0] = max(K - S_list[i], 0)\n",
    "    #print(res)\n",
    "    #loop through all the time step\n",
    "    for n in range(1,N+1,1):\n",
    "        # boundary condition\n",
    "\n",
    "        res[0][n] = res[0][n-1]/(1+r*dtau) # lower boundary on s\n",
    "        res[M-1][n] = 0\n",
    "\n",
    "        # loop through all the prices s_i\n",
    "        for i in range(1,M-1,1):\n",
    "\n",
    "\n",
    "            # define the upperstram weights:\n",
    "            alpha_i_foward = sigma**2*S_list[i]**2/((S_list[i]-S_list[i-1])*(S_list[i+1]-S_list[i-1]))\n",
    "            beta_i_foward = sigma**2*S_list[i]**2/((S_list[i+1]-S_list[i])*(S_list[i+1]-S_list[i-1]))+r*S_list[i]/(S_list[i+1]-S_list[i])\n",
    "            if (alpha_i_foward>= 0 and beta_i_foward>=0):\n",
    "                alpha_i_upper = alpha_i_foward\n",
    "                beta_i_upper = beta_i_foward\n",
    "            else:\n",
    "                # backward scheme\n",
    "                alpha_i_upper = sigma**2*S_list[i]**2/((S_list[i]-S_list[i-1])*(S_list[i+1]-S_list)[i-1])-r*S_list[i]/(S_list[i]-S_list[i-1])\n",
    "                beta_i_upper = sigma**2*S_list[i]**2/((S_list[i+1]-S_list[i])*(S_list[i+1]-S_list[i-1]))\n",
    "\n",
    "            # use the explicit scheme to update the value with centrel finite difference\n",
    "            alpha_i = sigma**2*S_list[i]**2/((S_list[i]-S_list[i-1])*(S_list[i+1]-S_list[i-1]))-r*S_list[i]/(S_list[i+1]-S_list[i-1])\n",
    "            beta_i = sigma**2*S_list[i]**2/((S_list[i+1]-S_list[i])*(S_list[i+1]-S_list[i-1]))+r*S_list[i]/(S_list[i+1]-S_list[i-1])\n",
    "            #print(alpha_i)\n",
    "            # avioid scillation:\n",
    "            \n",
    "            if alpha_i < 0:\n",
    "\n",
    "                alpha_i = alpha_i_upper\n",
    "                beta_i = beta_i_upper\n",
    "            \n",
    "            \n",
    "            if alpha_i<0 or beta_i<0:\n",
    "                print('wrong')\n",
    "\n",
    "            #print(res)\n",
    "            res[i][n] = res[i][n-1]*(1-(alpha_i+beta_i+r)*dtau) + alpha_i*res[i-1][n-1]*dtau + beta_i*res[i+1][n-1]*dtau\n",
    "    return res\n",
    "for N in (25,50,100,200,400):\n",
    "    print(ExplicitScheme(K,T,S_list,N)[27][-1])\n",
    "# ExplicitScheme(K,T,S_list,400)[27][-1]"
   ]
  },
  {
   "cell_type": "code",
   "execution_count": 99,
   "metadata": {},
   "outputs": [
    {
     "data": {
      "text/plain": [
       "14.42569301278311"
      ]
     },
     "execution_count": 99,
     "metadata": {},
     "output_type": "execute_result"
    }
   ],
   "source": [
    "def Fully_implicit(K,T,S_list,N):\n",
    "    \n",
    "    M = len(S_list)\n",
    "    dtau = T/N\n",
    "    \n",
    "\n",
    "    #loop through all the time step\n",
    "    for n in range(1,N+1,1):\n",
    "\n",
    "        matrix_M = np.zeros((M,M))\n",
    "        matrix_M[0][0] = r*dtau\n",
    "        for i in range(1,M-1,1):\n",
    "\n",
    "            \n",
    "            # define the upperstram weights:\n",
    "            alpha_i_foward = sigma**2*S_list[i]**2/((S_list[i]-S_list[i-1])*(S_list[i+1]-S_list[i-1]))\n",
    "            beta_i_foward = sigma**2*S_list[i]**2/((S_list[i+1]-S_list[i])*(S_list[i+1]-S_list[i-1]))+r*S_list[i]/(S_list[i+1]-S_list[i])\n",
    "            if (alpha_i_foward>= 0 and beta_i_foward>=0):\n",
    "                alpha_i_upper = alpha_i_foward\n",
    "                beta_i_upper = beta_i_foward\n",
    "            else:\n",
    "                # backward scheme\n",
    "                alpha_i_upper = sigma**2*S_list[i]**2/((S_list[i]-S_list[i-1])*(S_list[i+1]-S_list)[i-1])-r*S_list[i]/(S_list[i]-S_list[i-1])\n",
    "                beta_i_upper = sigma**2*S_list[i]**2/((S_list[i+1]-S_list[i])*(S_list[i+1]-S_list[i-1]))\n",
    "\n",
    "            # use the explicit scheme to update the value with centrel finite difference\n",
    "            alpha_i = sigma**2*S_list[i]**2/((S_list[i]-S_list[i-1])*(S_list[i+1]-S_list[i-1]))-r*S_list[i]/(S_list[i+1]-S_list[i-1])\n",
    "            beta_i = sigma**2*S_list[i]**2/((S_list[i+1]-S_list[i])*(S_list[i+1]-S_list[i-1]))+r*S_list[i]/(S_list[i+1]-S_list[i-1])\n",
    "            #print(alpha_i)\n",
    "            # avioid scillation:\n",
    "            \n",
    "            if alpha_i < 0:\n",
    "\n",
    "                alpha_i = alpha_i_upper\n",
    "                beta_i = beta_i_upper\n",
    "            \n",
    "            \n",
    "            if alpha_i<0 or beta_i<0:\n",
    "                print('wrong')\n",
    "            #alphas.append(alpha_i)\n",
    "            matrix_M[i][i-1] = -alpha_i*dtau\n",
    "            matrix_M[i][i] = dtau*(alpha_i+beta_i+r)\n",
    "            matrix_M[i][i+1] = -beta_i*dtau\n",
    "    I = np.identity(M)\n",
    "    K_arrary = [K for i in range(M)]\n",
    "    #print(K)\n",
    "    res = np.zeros((M,N+1))\n",
    "    res[:,0] = np.maximum(np.array(K_arrary) - np.array(S_list), 0)\n",
    "    for n in range(N):\n",
    "        res[:,n+1] = np.linalg.solve(I+matrix_M,res[:,n])\n",
    "    #print(res[0])\n",
    "    return res\n",
    "\n",
    "Fully_implicit(K,T,S_list,400)[27][-1]"
   ]
  },
  {
   "cell_type": "code",
   "execution_count": 106,
   "metadata": {},
   "outputs": [
    {
     "data": {
      "text/plain": [
       "14.430880983910757"
      ]
     },
     "execution_count": 106,
     "metadata": {},
     "output_type": "execute_result"
    }
   ],
   "source": [
    "def Crank_Nicolson(K,T,S_list,N):\n",
    "    \n",
    "    M = len(S_list)\n",
    "    dtau = T/N\n",
    "    \n",
    "\n",
    "    #loop through all the time step\n",
    "    for n in range(1,N+1,1):\n",
    "\n",
    "        matrix_M = np.zeros((M,M))\n",
    "        matrix_M[0][0] = r*dtau/2\n",
    "        for i in range(1,M-1,1):\n",
    "\n",
    "            \n",
    "            # define the upperstram weights:\n",
    "            alpha_i_foward = sigma**2*S_list[i]**2/((S_list[i]-S_list[i-1])*(S_list[i+1]-S_list[i-1]))\n",
    "            beta_i_foward = sigma**2*S_list[i]**2/((S_list[i+1]-S_list[i])*(S_list[i+1]-S_list[i-1]))+r*S_list[i]/(S_list[i+1]-S_list[i])\n",
    "            if (alpha_i_foward>= 0 and beta_i_foward>=0):\n",
    "                alpha_i_upper = alpha_i_foward\n",
    "                beta_i_upper = beta_i_foward\n",
    "            else:\n",
    "                # backward scheme\n",
    "                alpha_i_upper = sigma**2*S_list[i]**2/((S_list[i]-S_list[i-1])*(S_list[i+1]-S_list)[i-1])-r*S_list[i]/(S_list[i]-S_list[i-1])\n",
    "                beta_i_upper = sigma**2*S_list[i]**2/((S_list[i+1]-S_list[i])*(S_list[i+1]-S_list[i-1]))\n",
    "\n",
    "            # use the explicit scheme to update the value with centrel finite difference\n",
    "            alpha_i = sigma**2*S_list[i]**2/((S_list[i]-S_list[i-1])*(S_list[i+1]-S_list[i-1]))-r*S_list[i]/(S_list[i+1]-S_list[i-1])\n",
    "            beta_i = sigma**2*S_list[i]**2/((S_list[i+1]-S_list[i])*(S_list[i+1]-S_list[i-1]))+r*S_list[i]/(S_list[i+1]-S_list[i-1])\n",
    "            #print(alpha_i)\n",
    "            # avioid scillation:\n",
    "            \n",
    "            if alpha_i < 0:\n",
    "\n",
    "                alpha_i = alpha_i_upper\n",
    "                beta_i = beta_i_upper\n",
    "            \n",
    "            \n",
    "            if alpha_i<0 or beta_i<0:\n",
    "                print('wrong')\n",
    "            #alphas.append(alpha_i)\n",
    "            matrix_M[i][i-1] = -alpha_i*dtau/2\n",
    "            matrix_M[i][i] = dtau*(alpha_i+beta_i+r)/2\n",
    "            matrix_M[i][i+1] = -beta_i*dtau/2\n",
    "    I = np.identity(M)\n",
    "    K_arrary = [K for i in range(M)]\n",
    "    #print(K)\n",
    "    res = np.zeros((M,N+1))\n",
    "    res[:,0] = np.maximum(np.array(K_arrary) - np.array(S_list), 0)\n",
    "    # for n in range(N):\n",
    "    #     res[:,n+1] = np.linalg.solve(I+matrix_M,res[:,n])\n",
    "\n",
    "    for n in range(N):  # Iterate over each time step\n",
    "        res[:,n+1] = np.linalg.solve(I + matrix_M, (I - matrix_M).dot(res[:,n]))\n",
    "\n",
    "\n",
    "    #print(res[0])\n",
    "    return res\n",
    "\n",
    "Crank_Nicolson(K,T,S_list,400)[27][-1]"
   ]
  },
  {
   "cell_type": "code",
   "execution_count": 107,
   "metadata": {},
   "outputs": [
    {
     "data": {
      "text/plain": [
       "14.430855102238102"
      ]
     },
     "execution_count": 107,
     "metadata": {},
     "output_type": "execute_result"
    }
   ],
   "source": [
    "def Rannacher(K,T,S_list,N):\n",
    "    \n",
    "    M = len(S_list)\n",
    "    dtau = T/N\n",
    "    \n",
    "\n",
    "    #loop through all the time step\n",
    "    for n in range(1,N+1,1):\n",
    "\n",
    "        matrix_M = np.zeros((M,M))\n",
    "        matrix_M[0][0] = r*dtau\n",
    "\n",
    "        matrix_M_CN = np.zeros((M,M))\n",
    "        matrix_M_CN[0][0] = r*dtau/2\n",
    "        for i in range(1,M-1,1):\n",
    "\n",
    "            \n",
    "            # define the upperstram weights:\n",
    "            alpha_i_foward = sigma**2*S_list[i]**2/((S_list[i]-S_list[i-1])*(S_list[i+1]-S_list[i-1]))\n",
    "            beta_i_foward = sigma**2*S_list[i]**2/((S_list[i+1]-S_list[i])*(S_list[i+1]-S_list[i-1]))+r*S_list[i]/(S_list[i+1]-S_list[i])\n",
    "            if (alpha_i_foward>= 0 and beta_i_foward>=0):\n",
    "                alpha_i_upper = alpha_i_foward\n",
    "                beta_i_upper = beta_i_foward\n",
    "            else:\n",
    "                # backward scheme\n",
    "                alpha_i_upper = sigma**2*S_list[i]**2/((S_list[i]-S_list[i-1])*(S_list[i+1]-S_list)[i-1])-r*S_list[i]/(S_list[i]-S_list[i-1])\n",
    "                beta_i_upper = sigma**2*S_list[i]**2/((S_list[i+1]-S_list[i])*(S_list[i+1]-S_list[i-1]))\n",
    "\n",
    "            # use the explicit scheme to update the value with centrel finite difference\n",
    "            alpha_i = sigma**2*S_list[i]**2/((S_list[i]-S_list[i-1])*(S_list[i+1]-S_list[i-1]))-r*S_list[i]/(S_list[i+1]-S_list[i-1])\n",
    "            beta_i = sigma**2*S_list[i]**2/((S_list[i+1]-S_list[i])*(S_list[i+1]-S_list[i-1]))+r*S_list[i]/(S_list[i+1]-S_list[i-1])\n",
    "            #print(alpha_i)\n",
    "            # avioid scillation:\n",
    "            \n",
    "            if alpha_i < 0:\n",
    "\n",
    "                alpha_i = alpha_i_upper\n",
    "                beta_i = beta_i_upper\n",
    "            \n",
    "            \n",
    "            if alpha_i<0 or beta_i<0:\n",
    "                print('wrong')\n",
    "            #alphas.append(alpha_i)\n",
    "            matrix_M[i][i-1] = -alpha_i*dtau\n",
    "            matrix_M[i][i] = dtau*(alpha_i+beta_i+r)\n",
    "            matrix_M[i][i+1] = -beta_i*dtau\n",
    "            matrix_M_CN[i][i-1] = -alpha_i*dtau/2\n",
    "            matrix_M_CN[i][i] = dtau*(alpha_i+beta_i+r)/2\n",
    "            matrix_M_CN[i][i+1] = -beta_i*dtau/2\n",
    "    I = np.identity(M)\n",
    "    K_arrary = [K for i in range(M)]\n",
    "    #print(K)\n",
    "    res = np.zeros((M,N+1))\n",
    "    res[:,0] = np.maximum(np.array(K_arrary) - np.array(S_list), 0)\n",
    "    # for n in range(N):\n",
    "    #     res[:,n+1] = np.linalg.solve(I+matrix_M,res[:,n])\n",
    "\n",
    "    # first tow step explicit\n",
    "    for n in range(0,2,1):\n",
    "        res[:,n+1] = np.linalg.solve(I+matrix_M,res[:,n])\n",
    "    # next use Crank Nicolson\n",
    "    for n in range(2,N,1):\n",
    "        res[:,n+1] = np.linalg.solve(I+matrix_M_CN, (I - matrix_M_CN).dot(res[:,n]))\n",
    "\n",
    "\n",
    "    # for n in range(2:N):  # Iterate over each time step\n",
    "    #     res[:,n+1] = np.linalg.solve(I + matrix_M, (I - matrix_M).dot(res[:,n]))\n",
    "\n",
    "\n",
    "    #print(res[0])\n",
    "    return res\n",
    "\n",
    "Rannacher(K,T,S_list,400)[27][-1]\n"
   ]
  },
  {
   "cell_type": "code",
   "execution_count": 110,
   "metadata": {},
   "outputs": [
    {
     "data": {
      "text/html": [
       "<div>\n",
       "<style scoped>\n",
       "    .dataframe tbody tr th:only-of-type {\n",
       "        vertical-align: middle;\n",
       "    }\n",
       "\n",
       "    .dataframe tbody tr th {\n",
       "        vertical-align: top;\n",
       "    }\n",
       "\n",
       "    .dataframe thead th {\n",
       "        text-align: right;\n",
       "    }\n",
       "</style>\n",
       "<table border=\"1\" class=\"dataframe\">\n",
       "  <thead>\n",
       "    <tr style=\"text-align: right;\">\n",
       "      <th></th>\n",
       "      <th>ExplicitScheme</th>\n",
       "      <th>Fully_implicit</th>\n",
       "      <th>Crank_Nicolson</th>\n",
       "      <th>Rannacher</th>\n",
       "    </tr>\n",
       "  </thead>\n",
       "  <tbody>\n",
       "    <tr>\n",
       "      <th>25</th>\n",
       "      <td>1.259050e+51</td>\n",
       "      <td>0.103761</td>\n",
       "      <td>0.052793</td>\n",
       "      <td>0.026670</td>\n",
       "    </tr>\n",
       "    <tr>\n",
       "      <th>50</th>\n",
       "      <td>4.914886e+88</td>\n",
       "      <td>0.062455</td>\n",
       "      <td>0.024325</td>\n",
       "      <td>0.022464</td>\n",
       "    </tr>\n",
       "    <tr>\n",
       "      <th>100</th>\n",
       "      <td>4.367037e+149</td>\n",
       "      <td>0.041756</td>\n",
       "      <td>0.020978</td>\n",
       "      <td>0.021389</td>\n",
       "    </tr>\n",
       "    <tr>\n",
       "      <th>200</th>\n",
       "      <td>1.338435e+240</td>\n",
       "      <td>0.031396</td>\n",
       "      <td>0.021015</td>\n",
       "      <td>0.021119</td>\n",
       "    </tr>\n",
       "    <tr>\n",
       "      <th>400</th>\n",
       "      <td>NaN</td>\n",
       "      <td>0.026213</td>\n",
       "      <td>0.021025</td>\n",
       "      <td>0.021051</td>\n",
       "    </tr>\n",
       "  </tbody>\n",
       "</table>\n",
       "</div>"
      ],
      "text/plain": [
       "     ExplicitScheme  Fully_implicit  Crank_Nicolson  Rannacher\n",
       "25     1.259050e+51        0.103761        0.052793   0.026670\n",
       "50     4.914886e+88        0.062455        0.024325   0.022464\n",
       "100   4.367037e+149        0.041756        0.020978   0.021389\n",
       "200   1.338435e+240        0.031396        0.021015   0.021119\n",
       "400             NaN        0.026213        0.021025   0.021051"
      ]
     },
     "execution_count": 110,
     "metadata": {},
     "output_type": "execute_result"
    }
   ],
   "source": [
    "# A table with four columns (one for each method) showing the absolute error for today’s price of the\n",
    "#option for different time steps ∆τ in the rows. Use N ∈ {25, 50, 100, 200, 400} (so your table should have\n",
    "#5 rows\n",
    "\n",
    "import pandas as pd\n",
    "import numpy as np\n",
    "import matplotlib.pyplot as plt\n",
    "\n",
    "N_list = [25,50,100,200,400]\n",
    "methods = [ExplicitScheme,Fully_implicit,Crank_Nicolson,Rannacher]\n",
    "error = np.zeros((5,4))\n",
    "for i in range(5):\n",
    "    for j in range(4):\n",
    "        error[i][j] = abs(methods[j](K,T,S_list,N_list[i])[27][-1]-put_price)\n",
    "df = pd.DataFrame(error,columns = ['ExplicitScheme','Fully_implicit','Crank_Nicolson','Rannacher'],index = N_list)\n",
    "df\n"
   ]
  },
  {
   "cell_type": "code",
   "execution_count": 116,
   "metadata": {},
   "outputs": [
    {
     "data": {
      "text/plain": [
       "<matplotlib.legend.Legend at 0x13726bbd0>"
      ]
     },
     "execution_count": 116,
     "metadata": {},
     "output_type": "execute_result"
    },
    {
     "data": {
      "image/png": "[encoded data removed]",
      "text/plain": [
       "<Figure size 640x480 with 1 Axes>"
      ]
     },
     "metadata": {},
     "output_type": "display_data"
    }
   ],
   "source": [
    "#  plot of today’s option price as a function of S0: You should have 4 curves (one for each method). Use\n",
    "# N = 400.\n",
    "S_list = list(range(0, 50, 10)) + \\\n",
    "           list(range(45, 85, 5)) + \\\n",
    "           list(range(82, 91, 2)) + \\\n",
    "           list(range(91, 110)) + \\\n",
    "           list(range(110, 122, 2)) + \\\n",
    "           list(range(125, 165, 5)) + \\\n",
    "           list(range(170, 210, 10)) + \\\n",
    "           list(range(220, 310, 20)) + \\\n",
    "           list(range(350, 1050, 50)) + \\\n",
    "           list(range(2000, 10001, 1000))\n",
    "N = 400\n",
    "S_0 = 100\n",
    "K = 100\n",
    "T = 0.25\n",
    "r= 0.1\n",
    "sigma = 0.8\n",
    "methods = [ExplicitScheme,Fully_implicit,Crank_Nicolson,Rannacher]\n",
    "for method in methods:\n",
    "    prices = []\n",
    "    for i in range(len(S_list)):\n",
    "        prices.append(method(K,T,S_list,N)[i][-1])\n",
    "    plt.plot(S_list,prices,label = method.__name__)\n",
    "plt.legend()\n",
    "\n",
    "\n"
   ]
  },
  {
   "cell_type": "code",
   "execution_count": 117,
   "metadata": {},
   "outputs": [
    {
     "data": {
      "image/png": "[encoded data removed]",
      "text/plain": [
       "<Figure size 640x480 with 1 Axes>"
      ]
     },
     "metadata": {},
     "output_type": "display_data"
    }
   ],
   "source": [
    "#A plot of today’s δ = ∂P/∂S as a function of S. You should have 4 curves (one for each method). Use\n",
    "#N = 400.\n",
    "S_list = list(range(0, 50, 10)) + \\\n",
    "           list(range(45, 85, 5)) + \\\n",
    "           list(range(82, 91, 2)) + \\\n",
    "           list(range(91, 110)) + \\\n",
    "           list(range(110, 122, 2)) + \\\n",
    "           list(range(125, 165, 5)) + \\\n",
    "           list(range(170, 210, 10)) + \\\n",
    "           list(range(220, 310, 20)) + \\\n",
    "           list(range(350, 1050, 50)) + \\\n",
    "           list(range(2000, 10001, 1000))\n",
    "N = 400\n",
    "S_0 = 100\n",
    "K = 100\n",
    "T = 0.25\n",
    "r= 0.1\n",
    "sigma = 0.8\n",
    "methods = [ExplicitScheme,Fully_implicit,Crank_Nicolson,Rannacher]\n",
    "for method in methods:\n",
    "    prices = []\n",
    "    for i in range(len(S_list)):\n",
    "        prices.append(method(K,T,S_list,N)[i][-1])\n",
    "    delta = np.gradient(prices)\n",
    "    plt.plot(S_list,delta,label = method.__name__)\n",
    "plt.legend()\n",
    "plt.show()\n"
   ]
  },
  {
   "cell_type": "code",
   "execution_count": 119,
   "metadata": {},
   "outputs": [
    {
     "data": {
      "text/plain": [
       "array([-9.99999327e+00, -9.99971049e+00, -9.99405461e+00, -9.94895353e+00,\n",
       "       -7.37558054e+00, -4.78224997e+00, -4.63932149e+00, -4.45090853e+00,\n",
       "       -4.22215565e+00, -3.96124421e+00, -3.67791170e+00, -3.38210400e+00,\n",
       "       -2.22055759e+00, -1.18512749e+00, -1.13803344e+00, -1.09157230e+00,\n",
       "       -1.04587776e+00, -7.59099808e-01, -4.89482237e-01, -4.78588850e-01,\n",
       "       -4.67829462e-01, -4.57208723e-01, -4.46730846e-01, -4.36399624e-01,\n",
       "       -4.26218445e-01, -4.16190308e-01, -4.06317842e-01, -3.96603315e-01,\n",
       "       -3.87048659e-01, -3.77655479e-01, -3.68425073e-01, -3.59358445e-01,\n",
       "       -3.50456325e-01, -3.41719177e-01, -3.33147221e-01, -3.24740443e-01,\n",
       "       -3.16498611e-01, -4.56652514e-01, -5.85548143e-01, -5.55516234e-01,\n",
       "       -5.26761787e-01, -4.99261439e-01, -7.94259781e-01, -1.03154088e+00,\n",
       "       -8.97582017e-01, -7.79594478e-01, -6.76095949e-01, -5.85621264e-01,\n",
       "       -5.06764275e-01, -4.38204651e-01, -5.27060212e-01, -5.65246809e-01,\n",
       "       -4.21326635e-01, -3.14411761e-01, -3.02968024e-01, -2.62991639e-01,\n",
       "       -1.48108015e-01, -8.46796383e-02, -4.95342342e-02, -3.49651438e-02,\n",
       "       -2.13948974e-02, -6.51023613e-03, -2.12519530e-03, -7.38074606e-04,\n",
       "       -2.70789164e-04, -1.04327602e-04, -4.19963217e-05, -1.75880547e-05,\n",
       "       -7.63708702e-06, -3.43162547e-06, -1.59994083e-06, -7.88771488e-07,\n",
       "       -4.39771534e-07, -2.03144592e-07, -3.38679629e-08, -5.84152708e-10,\n",
       "       -2.06827612e-11, -1.17452692e-12, -9.38497949e-14, -9.73743267e-15,\n",
       "       -1.24436872e-15, -1.94669219e-16, -6.61818117e-17])"
      ]
     },
     "execution_count": 119,
     "metadata": {},
     "output_type": "execute_result"
    }
   ],
   "source": [
    "np.gradient(prices)"
   ]
  },
  {
   "cell_type": "code",
   "execution_count": null,
   "metadata": {},
   "outputs": [],
   "source": []
  }
 ],
 "metadata": {
  "kernelspec": {
   "display_name": "Python 3",
   "language": "python",
   "name": "python3"
  },
  "language_info": {
   "codemirror_mode": {
    "name": "ipython",
    "version": 3
   },
   "file_extension": ".py",
   "mimetype": "text/x-python",
   "name": "python",
   "nbconvert_exporter": "python",
   "pygments_lexer": "ipython3",
   "version": "3.11.1"
  }
 },
 "nbformat": 4,
 "nbformat_minor": 2
}
