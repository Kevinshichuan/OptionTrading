{
 "cells": [
  {
   "cell_type": "code",
   "execution_count": null,
   "metadata": {},
   "outputs": [],
   "source": [
    "# PDE for Put option\n",
    "# p_t+0.5*sigma^2*s^2*P_{ss}+r*s*P_{s}-r*P = 0\n",
    "# Boundary: \n",
    "# Now we approximate the solution to the above PDE"
   ]
  },
  {
   "cell_type": "code",
   "execution_count": 18,
   "metadata": {},
   "outputs": [],
   "source": [
    "# Global Constant\n",
    "S_list = list(range(0, 50, 10)) + \\\n",
    "           list(range(45, 85, 5)) + \\\n",
    "           list(range(82, 91, 2)) + \\\n",
    "           list(range(91, 110)) + \\\n",
    "           list(range(110, 122, 2)) + \\\n",
    "           list(range(125, 165, 5)) + \\\n",
    "           list(range(170, 210, 10)) + \\\n",
    "           list(range(220, 310, 20)) + \\\n",
    "           list(range(350, 1050, 50)) + \\\n",
    "           list(range(2000, 10001, 1000))\n",
    "\n",
    "K = 100\n",
    "T = 0.25\n",
    "r= 0.1\n",
    "sigma = 0.8\n",
    "S_0 = 100\n",
    "N = 25"
   ]
  },
  {
   "cell_type": "code",
   "execution_count": 19,
   "metadata": {},
   "outputs": [
    {
     "name": "stdout",
     "output_type": "stream",
     "text": [
      "The Black-Scholes price of the European put option is: 14.451905854467874\n"
     ]
    }
   ],
   "source": [
    "import numpy as np\n",
    "import scipy.stats as si\n",
    "\n",
    "def european_put(S, K, T, r, sigma):\n",
    "    \"\"\"\n",
    "    Calculate the Black-Scholes price for a European Put Option.\n",
    "\n",
    "    Parameters:\n",
    "    S (float): Current stock price\n",
    "    K (float): Strike price of the option\n",
    "    T (float): Time to maturity (in years)\n",
    "    r (float): Risk-free interest rate (annual rate, continuous compounding)\n",
    "    sigma (float): Volatility of the underlying stock (annual standard deviation of log returns)\n",
    "\n",
    "    Returns:\n",
    "    float: Black-Scholes price of the European Put Option\n",
    "    \"\"\"\n",
    "    \n",
    "    # Calculating d1 and d2\n",
    "    d1 = (np.log(S / K) + (r + 0.5 * sigma**2) * T) / (sigma * np.sqrt(T))\n",
    "    d2 = d1 - sigma * np.sqrt(T)\n",
    "    \n",
    "    # Calculate the put price using the Black-Scholes formula\n",
    "    put_price = K * np.exp(-r * T) * si.norm.cdf(-d2) - S * si.norm.cdf(-d1)\n",
    "    \n",
    "    return put_price\n",
    "\n",
    "\n",
    "\n",
    "put_price = european_put(S_0, K, T, r, sigma)\n",
    "print(f\"The Black-Scholes price of the European put option is: {put_price}\")\n",
    "\n"
   ]
  },
  {
   "cell_type": "code",
   "execution_count": 24,
   "metadata": {},
   "outputs": [
    {
     "data": {
      "text/plain": [
       "1.3842812429866838e+245"
      ]
     },
     "execution_count": 24,
     "metadata": {},
     "output_type": "execute_result"
    }
   ],
   "source": [
    "# Explicit Scheme\n",
    "\n",
    "def ExplicitScheme(K,T,S_list,N):\n",
    "    \n",
    "    M = len(S_list)\n",
    "    dtau = T/N\n",
    "    \n",
    "    # grid for saving the solutions\n",
    "    res = [[0 for i in range(N+1)] for j in range(M)]\n",
    "    #print(len(res[0]))\n",
    "    for i in range(M):\n",
    "        res[i][0] = max(K - S_list[i], 0)\n",
    "\n",
    "    #loop through all the time step\n",
    "    for n in range(1,N+1,1):\n",
    "        # boundary condition\n",
    "\n",
    "        res[0][n] = res[0][n-1]*(1-r*dtau) # lower boundary on s\n",
    "        res[M-1][n] = 0\n",
    "        # loop through all the prices s_i\n",
    "        for i in range(1,M-1,1):\n",
    "\n",
    "            # use the explicit scheme to update the value with centrel finite difference\n",
    "            alpha_i = sigma**2*S_list[i]**2/((S_list[i]-S_list[i-1])*(S_list[i+1]-S_list[i]))-r*S_list[i]/(S_list[i+1]-S_list[i-1])\n",
    "            beta_i = sigma**2*S_list[i]**2/((S_list[i+1]-S_list[i])*(S_list[i]-S_list[i-1]))+r*S_list[i]/(S_list[i+1]-S_list[i-1])\n",
    "\n",
    "            # avioid scillation:\n",
    "            \n",
    "            if alpha_i < 0:\n",
    "                alpha_i = sigma**2*S_list[i]**2/((S_list[i]-S_list[i-1])*(S_list[i+1]-S_list)[i-1])\n",
    "                beta_i = sigma**2*S_list[i]**2/((S_list[i+1]-S_list[i])*(S_list[i+1]-S_list[i-1]))+r*S_list[i]/(S_list[i+1]-S_list[i])\n",
    "            \n",
    "\n",
    "            res[i][n] = res[i][n-1]*(1-alpha_i+beta_i+r)*dtau + alpha_i*res[i-1][n-1]*dtau + beta_i*res[i+1][n-1]*dtau\n",
    "    return res\n",
    "\n",
    "ExplicitScheme(K,T,S_list,200)[27][-1]"
   ]
  },
  {
   "cell_type": "code",
   "execution_count": null,
   "metadata": {},
   "outputs": [],
   "source": []
  },
  {
   "cell_type": "code",
   "execution_count": null,
   "metadata": {},
   "outputs": [],
   "source": []
  }
 ],
 "metadata": {
  "kernelspec": {
   "display_name": "Python 3",
   "language": "python",
   "name": "python3"
  },
  "language_info": {
   "codemirror_mode": {
    "name": "ipython",
    "version": 3
   },
   "file_extension": ".py",
   "mimetype": "text/x-python",
   "name": "python",
   "nbconvert_exporter": "python",
   "pygments_lexer": "ipython3",
   "version": "3.11.1"
  }
 },
 "nbformat": 4,
 "nbformat_minor": 2
}
