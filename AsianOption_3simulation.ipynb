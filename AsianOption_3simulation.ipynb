{
 "cells": [
  {
   "cell_type": "code",
   "execution_count": 1,
   "metadata": {},
   "outputs": [],
   "source": [
    "import numpy as np\n",
    "from scipy.stats import norm, t\n",
    "import math\n",
    "import pandas as pd\n",
    "import matplotlib.pyplot as plt\n",
    "import os\n",
    "import matplotlib\n",
    "from tqdm import tqdm\n",
    "from scipy.stats import gmean"
   ]
  },
  {
   "cell_type": "code",
   "execution_count": 2,
   "metadata": {},
   "outputs": [],
   "source": [
    "S_0 = 100 # initial price\n",
    "K = 100 # Strike Price\n",
    "r = 0.01 # risk-free rate\n",
    "sigma = 0.1 # Vol\n",
    "T = 1 # time to maturity\n",
    "N = 260 # number of time step\n",
    "n = 10**5 # simulation time\n",
    "n_pil = 100"
   ]
  },
  {
   "cell_type": "code",
   "execution_count": 3,
   "metadata": {},
   "outputs": [],
   "source": [
    "# Q5f for (b)\n",
    "def Naive_MonteCarlo(K,S_0,n):\n",
    "\n",
    "    res = []\n",
    "\n",
    "    # simulation\n",
    "    for i in tqdm(range(n)):\n",
    "        \n",
    "        # price path\n",
    "            \n",
    "        prices = [0] * (N+1)\n",
    "        # initial price is S_0\n",
    "        prices[0] = S_0\n",
    "        dt = T/N # time period\n",
    "        \n",
    "        for t_i in range(1,N+1,1):\n",
    "            \n",
    "            # time interval\n",
    "            Z = np.random.normal(0, np.sqrt(dt))\n",
    "            prices[t_i] = prices[t_i-1]* np.exp((r-0.5*sigma**2)*dt+sigma*Z)\n",
    "\n",
    "        curavg = np.mean(prices)\n",
    "\n",
    "        payoff = max(curavg-K,0)\n",
    "        fair_price = payoff* np.exp(0-r*T)\n",
    "        res.append(fair_price)\n",
    "\n",
    "    # calculate the confidence interval\n",
    "        \n",
    "    mu_mc = np.mean(res)\n",
    "    \n",
    "    # unbaised standard deviation:\n",
    "    sum_of_square = 0\n",
    "    for realized in res:\n",
    "        sum_of_square += (realized-mu_mc)**2\n",
    "    sample_std = np.sqrt(sum_of_square/(len(res)-1))\n",
    "    \n",
    "    # Z-score for 95% confidence\n",
    "    z_score = norm.ppf(.975)\n",
    "\n",
    "    # Print the results\n",
    "    print(f\"95% Confidence Interval: ({mu_mc-z_score*sample_std/np.sqrt(len(res))}, {mu_mc+z_score*sample_std/np.sqrt(len(res))})\")\n",
    "    # Confidence interval\n",
    "    return [mu_mc-z_score*sample_std/np.sqrt(len(res)),\n",
    "            mu_mc+z_score*sample_std/np.sqrt(len(res))]\n",
    "\n",
    "\n",
    "        \n",
    "    \n",
    "        "
   ]
  },
  {
   "cell_type": "code",
   "execution_count": null,
   "metadata": {},
   "outputs": [],
   "source": [
    "# Q5f for (c)\n",
    "def AV_montecarlo(K,S_0,n,N):\n",
    "    \n",
    "    res = []\n",
    "    res_AV=[]\n",
    "    # simulation\n",
    "    for i in tqdm(range(n//2)):\n",
    "        \n",
    "        # price path\n",
    "            \n",
    "        prices = [0] * (N+1)\n",
    "        # initial price is S_0\n",
    "        prices[0] = S_0\n",
    "        dt = T/N # time period\n",
    "        \n",
    "        antithetic_prices = [0]*(N+1)\n",
    "        # initial price is S_0\n",
    "        antithetic_prices[0] = S_0\n",
    "        for t_i in range(1,N+1,1):\n",
    "            \n",
    "            # time interval\n",
    "            Z = np.random.normal(0, np.sqrt(dt))\n",
    "        \n",
    "            prices[t_i] = prices[t_i-1]* np.exp((r-0.5*sigma**2)*dt+sigma*Z)\n",
    "\n",
    "#           #Antithetic price\n",
    "            antithetic_prices[t_i] = antithetic_prices[t_i-1]* np.exp((r-0.5*sigma**2)*dt-sigma*Z)\n",
    "        curavg = np.mean(prices)\n",
    "        curavg_antithetic = np.mean(antithetic_prices)\n",
    "\n",
    "        payoff = max(curavg-K,0)\n",
    "        payoff_antithetic = max(curavg_antithetic-K,0)\n",
    "\n",
    "        fair_price = payoff* np.exp(0-r*T)\n",
    "        fair_price_antithetic = payoff_antithetic*np.exp(0-r*T)\n",
    "       \n",
    "        res.append(fair_price)\n",
    "        res_AV.append(fair_price_antithetic)\n",
    "\n",
    "\n",
    "    # Z-score for 95% confidence\n",
    "    z_score = norm.ppf(.975)\n",
    "    \n",
    "    ## calculate the mu AV\n",
    "    mu_av = np.mean((np.array(res)+np.array(res_AV))/2)\n",
    "\n",
    "    ## calcuilate the sample Variance\n",
    "    sumofsquare = 0\n",
    "    for i in range(len(res)):\n",
    "        sumofsquare += ((res[i]+res_AV[i])/2-mu_av)**2\n",
    "\n",
    "    samplestd = np.sqrt(sumofsquare/(len(res)-1))\n",
    "    print(len(res))\n",
    "    print(len(res_AV))\n",
    "        \n",
    "    # Print the results\n",
    "    print(f\"95% Confidence Interval: ({mu_av-z_score*samplestd/np.sqrt(len(res)/2)}, {mu_av+z_score*samplestd/np.sqrt(len(res)/2)})\")\n",
    "    # Confidence interval\n",
    "    return [mu_av-z_score*samplestd/np.sqrt(len(res)/2),\n",
    "            mu_av+z_score*samplestd/np.sqrt(len(res)/2)]\n",
    "    "
   ]
  },
  {
   "cell_type": "code",
   "execution_count": null,
   "metadata": {},
   "outputs": [],
   "source": [
    "# Q5f for (e)\n",
    "\n",
    "def CV_AsianCall(K,S_0,N,n_pil,n):\n",
    "\n",
    "        # calculate beta first using pilot run\n",
    "    res_pil = []\n",
    "    res_CV_pil=[]\n",
    "    # pilot run\n",
    "    for i in tqdm(range(n_pil)):\n",
    "\n",
    "        # price path\n",
    "\n",
    "        prices = [0] * (N+1)\n",
    "        # initial price is S_0\n",
    "        prices[0] = S_0\n",
    "        dt = T/N # time period\n",
    "\n",
    "        #CV_prices = [0]* (N+1)\n",
    "        # initial price is S_0\n",
    "        #CV_prices[0] = S_0\n",
    "        for t_i in range(1,N+1,1):\n",
    "\n",
    "            # time interval\n",
    "            Z = np.random.normal(0, np.sqrt(dt))\n",
    "\n",
    "            prices[t_i] = prices[t_i-1]* np.exp((r-0.5*sigma**2)*dt+sigma*Z)\n",
    "\n",
    "    #          \n",
    "            #CV_prices[t_i] = CV_prices[t_i-1]* np.exp((r-0.5*sigma**2)*dt+sigma*Z)\n",
    "        curavg = np.mean(prices) # Y\n",
    "        geo_mean = gmean(prices) # control variable\n",
    "        #print(prices)\n",
    "\n",
    "        res_pil.append(max(0,curavg-K)* np.exp(0-r*T))\n",
    "        res_CV_pil.append(max(0,geo_mean-K)* np.exp(0-r*T))\n",
    "\n",
    "    mu_pil = np.mean(res_pil)\n",
    "    mu_CV_pil = np.mean(res_CV_pil)\n",
    "    #sample deviation\n",
    "    sum_of_square = 0\n",
    "    for realized in res_CV_pil:\n",
    "        sum_of_square += (realized-mu_CV_pil)**2\n",
    "    sigma_C_pil = np.sqrt(sum_of_square/(n_pil-1))\n",
    "    # sample beta\n",
    "    beta_hat = ((np.inner(np.array(res_pil), np.array(res_CV_pil)))-n_pil*(mu_pil*mu_CV_pil))/((n_pil-1)*(sigma_C_pil**2))\n",
    "\n",
    "    print(\"the internal beta is: {}\".format(beta_hat))\n",
    "# now the actual simulation\n",
    "\n",
    "\n",
    "\n",
    "    res = []\n",
    "    res_CV=[]\n",
    "    for i in tqdm(range(n)):\n",
    "\n",
    "        # price path\n",
    "\n",
    "        prices = [0] * (N+1)\n",
    "        # initial price is S_0\n",
    "        prices[0] = S_0\n",
    "        dt = T/N # time period\n",
    "\n",
    "        #CV_prices = [0]* (N+1)\n",
    "        # initial price is S_0\n",
    "        #CV_prices[0] = S_0\n",
    "        for t_i in range(1,N+1,1):\n",
    "\n",
    "            # time interval\n",
    "            Z = np.random.normal(0, np.sqrt(dt))\n",
    "\n",
    "            prices[t_i] = prices[t_i-1]* np.exp((r-0.5*sigma**2)*dt+sigma*Z)\n",
    "\n",
    "    #          \n",
    "            #CV_prices[t_i] = CV_prices[t_i-1]* np.exp((r-0.5*sigma**2)*dt+sigma*Z)\n",
    "        curavg = np.mean(prices) # Y\n",
    "        geo_mean = gmean(prices) # control variable\n",
    "        #print(prices)\n",
    "\n",
    "        res.append(max(0,curavg-K)* np.exp(0-r*T))\n",
    "        res_CV.append(max(0,geo_mean-K)* np.exp(0-r*T))\n",
    "    \n",
    "    # mu_c for distributiin\n",
    "    a = np.log(S_0) + (r - sigma**2 * 0.5) * T * (N + 1) / (2 * N)\n",
    "    b = sigma**2 * T * (N + 1) * (2 * N + 1) / (6 * N**2)\n",
    "\n",
    "    # Calculate d1 and d2 using a and b\n",
    "    d1 = (-np.log(K) + a + b) / np.sqrt(b)\n",
    "    d2 = d1 - np.sqrt(b)\n",
    "\n",
    "    # Calculate mu_c using the cumulative distribution function of a standard normal\n",
    "    mu_c = np.exp(-r * T) * (np.exp(a + b/2) * norm.cdf(d1) - K * norm.cdf(d2))\n",
    "\n",
    "    mu_n_CV = 0\n",
    "    for i in range(n):\n",
    "        mu_n_CV += (res[i]+beta_hat*(mu_c-res_CV[i]))\n",
    "    mu_n_CV = mu_n_CV/n\n",
    "\n",
    "    # now calculate the sample standard deviation\n",
    "    #sample deviation\n",
    "    sum_of_square = 0\n",
    "    for realized in res_CV:\n",
    "        sum_of_square += (realized-mu_n_CV)**2\n",
    "    sigma_hat = np.sqrt(sum_of_square/(n*(n-1)))\n",
    "\n",
    "    # Z-score for 95% confidence\n",
    "    z_score = norm.ppf(.975)\n",
    "    # Print the results\n",
    "    print(f\"95% Confidence Interval: ({mu_n_CV-z_score*sigma_hat/np.sqrt(len(res))},{mu_n_CV+z_score*sigma_hat/np.sqrt(len(res))})\")\n",
    "    # Confidence interval\n",
    "#return [mu_n_CV-z_score*sigma_hat/np.sqrt(len(res)),\n",
    "#        mu_n_CV-z_score*sigma_hat/np.sqrt(len(res))]"
   ]
  },
  {
   "cell_type": "code",
   "execution_count": null,
   "metadata": {},
   "outputs": [],
   "source": [
    "# Q5h for (g)\n",
    "def Binomial_AsianCall(K,S_0,N):\n",
    "    \n",
    "    r=0.01 # risk free rate\n",
    "    sigma = 0.1 # Val\n",
    "    T = 1\n",
    "    u = np.exp(sigma*np.sqrt(T/N))\n",
    "    d = 1/u\n",
    "    dt = T/N\n",
    "    q_u=1/2\n",
    "    q_d=1-q_u\n",
    "    print(\"u is {}\".format(u))\n",
    "    print(\"d is {}\".format(d))\n",
    "    # simulate the prices at T.\n",
    "\n",
    "    price_paths = []\n",
    "    # generate the price path first, also calculate the number of upper in order \n",
    "    # in order to \n",
    "    def helper(current_path,n,price,):\n",
    "        \n",
    "        if n == N:\n",
    "            \n",
    "            price_paths.append(current_path)\n",
    "            \n",
    "            return\n",
    "\n",
    "        else:\n",
    "            helper(current_path+[price*u],n+1,price*u)\n",
    "            helper(current_path+[price*d],n+1, price*d)\n",
    "\n",
    "    helper([S_0],0,S_0)     \n",
    "\n",
    "\n",
    "    # Now calculate the payoff at time T first.\n",
    "    V_N = []\n",
    "\n",
    "    for price_path in price_paths:\n",
    "        payoff = max(0,np.mean(price_path)-K)\n",
    "        V_N.append(payoff)\n",
    "\n",
    "    # now using backward induction to calculate the V_0 price\n",
    "    #print(V_N)\n",
    "    for t in range(N-1,-1,-1):\n",
    "        #print(t)\n",
    "        # payoff list at time t.  backward induction from every two up and down price\n",
    "        if t == N-1:\n",
    "            V_t = V_N\n",
    "        Pre = []\n",
    "        i = 0\n",
    "        while i <= len(V_t)-1:\n",
    "            \n",
    "            Pre_payoff = np.exp(0-r*dt)*(q_u*V_t[i]+q_d*V_t[i+1])\n",
    "            Pre.append(Pre_payoff)\n",
    "\n",
    "            i = i+2\n",
    "\n",
    "        #print(Pre)\n",
    "        V_t = Pre\n",
    "    print('For N = {}, V_0 value is {}'.format(N,V_t))\n",
    "    return V_t\n",
    "\n"
   ]
  },
  {
   "cell_type": "code",
   "execution_count": null,
   "metadata": {},
   "outputs": [
    {
     "name": "stderr",
     "output_type": "stream",
     "text": [
      "100%|██████████| 100000/100000 [01:24<00:00, 1181.69it/s]\n"
     ]
    },
    {
     "name": "stdout",
     "output_type": "stream",
     "text": [
      "95% Confidence Interval: (0.15567418065967284, 0.16677638549544974)\n"
     ]
    },
    {
     "data": {
      "text/plain": [
       "[0.15567418065967284, 0.16677638549544974]"
      ]
     },
     "execution_count": 59,
     "metadata": {},
     "output_type": "execute_result"
    }
   ],
   "source": [
    " # (b)\n",
    "Naive_MonteCarlo(K=110,S_0=100,n=100000,N=260)\n",
    "\n"
   ]
  },
  {
   "cell_type": "code",
   "execution_count": null,
   "metadata": {},
   "outputs": [
    {
     "name": "stderr",
     "output_type": "stream",
     "text": [
      "100%|██████████| 50000/50000 [01:00<00:00, 829.76it/s]"
     ]
    },
    {
     "name": "stdout",
     "output_type": "stream",
     "text": [
      "50000\n",
      "50000\n",
      "95% Confidence Interval: (0.15153121920964693, 0.16710018547096953)\n"
     ]
    },
    {
     "name": "stderr",
     "output_type": "stream",
     "text": [
      "\n"
     ]
    },
    {
     "data": {
      "text/plain": [
       "[0.15153121920964693, 0.16710018547096953]"
      ]
     },
     "execution_count": 66,
     "metadata": {},
     "output_type": "execute_result"
    }
   ],
   "source": [
    "#(c)\n",
    "AV_montecarlo(K=110,S_0=100,n=100000,N=260)"
   ]
  },
  {
   "cell_type": "code",
   "execution_count": null,
   "metadata": {},
   "outputs": [
    {
     "name": "stderr",
     "output_type": "stream",
     "text": [
      "100%|██████████| 100/100 [00:00<00:00, 944.65it/s]\n"
     ]
    },
    {
     "name": "stdout",
     "output_type": "stream",
     "text": [
      "the internal beta is: 1.046017076497132\n"
     ]
    },
    {
     "name": "stderr",
     "output_type": "stream",
     "text": [
      "100%|██████████| 100000/100000 [01:46<00:00, 935.50it/s]"
     ]
    },
    {
     "name": "stdout",
     "output_type": "stream",
     "text": [
      "95% Confidence Interval: (0.1615499582042672,0.16158302279737613)\n"
     ]
    },
    {
     "name": "stderr",
     "output_type": "stream",
     "text": [
      "\n"
     ]
    }
   ],
   "source": [
    "#(e)\n",
    "CV_AsianCall(K=110,S_0=100,N=260,n_pil=100,n=100000)"
   ]
  },
  {
   "cell_type": "markdown",
   "metadata": {},
   "source": [
    "# Comment: \n",
    "the above are the three confidence interver. The control variable method has the narriest confidence interval \n",
    "#and the least variance"
   ]
  },
  {
   "cell_type": "code",
   "execution_count": null,
   "metadata": {},
   "outputs": [
    {
     "name": "stdout",
     "output_type": "stream",
     "text": [
      "u is 1.0457364348384068\n",
      "d is 0.9562638985171495\n",
      "For N = 5, V_0 value is [0.07821921495423305]\n",
      "u is 1.0321280889960358\n",
      "d is 0.9688719943400753\n",
      "For N = 10, V_0 value is [0.1106669775014856]\n",
      "u is 1.0226125536284048\n",
      "d is 0.9778874672052759\n",
      "For N = 20, V_0 value is [0.12694444857302675]\n"
     ]
    }
   ],
   "source": [
    "# code for (g) \n",
    "for timeinterval in [5,10,20]:\n",
    "    Binomial_AsianCall(K=110,S_0=100,N=timeinterval)"
   ]
  },
  {
   "cell_type": "code",
   "execution_count": 5,
   "metadata": {},
   "outputs": [
    {
     "name": "stderr",
     "output_type": "stream",
     "text": [
      "100%|██████████| 100000/100000 [01:29<00:00, 1121.20it/s]\n"
     ]
    },
    {
     "name": "stdout",
     "output_type": "stream",
     "text": [
      "95% Confidence Interval: (2.5150450636579973, 2.560328872268951)\n"
     ]
    }
   ],
   "source": [
    "res = []\n",
    "\n",
    "# simulation\n",
    "for i in tqdm(range(100000)):\n",
    "\n",
    "    # price path            \n",
    "    prices = [0] * (N+1)\n",
    "    # initial price is S_0\n",
    "    prices[0] = S_0\n",
    "    dt = T/N # time period\n",
    "\n",
    "    for t_i in range(1,N+1,1):\n",
    "\n",
    "        # time interval\n",
    "        Z = np.random.normal(0, np.sqrt(dt))\n",
    "        prices[t_i] = prices[t_i-1]* np.exp((r-0.5*sigma**2)*dt+sigma*Z)\n",
    "\n",
    "    curavg = np.mean(prices)\n",
    "\n",
    "    payoff = max(curavg-K,0)\n",
    "    fair_price = payoff* np.exp(0-r*T)\n",
    "    res.append(fair_price)\n",
    "\n",
    "# calculate the confidence interval\n",
    "\n",
    "mu_mc = np.mean(res)\n",
    "\n",
    "# unbaised standard deviation:\n",
    "sum_of_square = 0\n",
    "for realized in res:\n",
    "    sum_of_square += (realized-mu_mc)**2\n",
    "sample_std = np.sqrt(sum_of_square/(len(res)-1))\n",
    "\n",
    "# Z-score for 95% confidence\n",
    "z_score = norm.ppf(.975)\n",
    "\n",
    "# Print the results\n",
    "print(f\"95% Confidence Interval: ({mu_mc-z_score*sample_std/np.sqrt(len(res))}, {mu_mc+z_score*sample_std/np.sqrt(len(res))})\")\n",
    "# Confidence interval"
   ]
  },
  {
   "cell_type": "code",
   "execution_count": 7,
   "metadata": {},
   "outputs": [
    {
     "data": {
      "text/plain": [
       "3.653127747940842"
      ]
     },
     "execution_count": 7,
     "metadata": {},
     "output_type": "execute_result"
    }
   ],
   "source": [
    "sample_std"
   ]
  },
  {
   "cell_type": "code",
   "execution_count": 9,
   "metadata": {},
   "outputs": [
    {
     "data": {
      "text/plain": [
       "3.6531094822555725"
      ]
     },
     "execution_count": 9,
     "metadata": {},
     "output_type": "execute_result"
    }
   ],
   "source": [
    "np.std(res)"
   ]
  },
  {
   "cell_type": "code",
   "execution_count": null,
   "metadata": {},
   "outputs": [],
   "source": []
  }
 ],
 "metadata": {
  "kernelspec": {
   "display_name": "Python 3",
   "language": "python",
   "name": "python3"
  },
  "language_info": {
   "codemirror_mode": {
    "name": "ipython",
    "version": 3
   },
   "file_extension": ".py",
   "mimetype": "text/x-python",
   "name": "python",
   "nbconvert_exporter": "python",
   "pygments_lexer": "ipython3",
   "version": "3.10.4"
  }
 },
 "nbformat": 4,
 "nbformat_minor": 4
}
