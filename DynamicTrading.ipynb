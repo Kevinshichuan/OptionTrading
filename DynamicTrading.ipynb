{
 "cells": [
  {
   "cell_type": "code",
   "execution_count": 26,
   "id": "f7f49ea9-0db5-4a7c-9491-328733d18fc1",
   "metadata": {},
   "outputs": [],
   "source": [
    "import pandas as pd\n",
    "from scipy.stats import norm\n",
    "import numpy as np\n",
    "import matplotlib.pyplot as plt\n",
    "import tqdm"
   ]
  },
  {
   "cell_type": "code",
   "execution_count": 27,
   "id": "259979cf-09a2-4c62-829a-3d6dbaf340e3",
   "metadata": {},
   "outputs": [],
   "source": [
    "# Calculate the fair price of c_0 so that we do not need to\n",
    "S_0=95\n",
    "K=105\n",
    "sigma = 0.15\n",
    "T=1\n",
    "r = 0\n",
    "def black_scholes_call(S, K, T, r, sigma):\n",
    "    d1 = (np.log(S / K) + (r + 0.5 * sigma**2) * T) / (sigma * np.sqrt(T))\n",
    "    d2 = d1 - sigma * np.sqrt(T)\n",
    "    \n",
    "    call_price = S * norm.cdf(d1) - K * np.exp(-r * T) * norm.cdf(d2)\n",
    "    return call_price\n",
    "\n",
    "# Global variable\n",
    "c_0 = black_scholes_call(S_0, K, T, r, sigma)\n"
   ]
  },
  {
   "cell_type": "code",
   "execution_count": 14,
   "id": "1f0bef10-c812-48df-bdaf-e6c1ac90f448",
   "metadata": {},
   "outputs": [],
   "source": [
    "# Reblancing the final result\n",
    "def Rebalancing(N,c_0):\n",
    "   \n",
    "    # Given constants\n",
    "    S_0=95\n",
    "    K=105\n",
    "    sigma = 0.15\n",
    "    T=1\n",
    "    r = 0\n",
    "    n = 80000\n",
    "    dt = T/N\n",
    "    \n",
    "    res = []\n",
    "    for i in range(n):\n",
    "        path = [S_0]\n",
    "        delta = 0\n",
    "        B = c_0\n",
    "        for j in range(N):\n",
    "            Z = np.random.normal(0, 1)\n",
    "            s_j = path[j-1]*np.exp((r-sigma**2/2)*dt+sigma*Z*np.sqrt(dt))\n",
    "            path.append(s_j)\n",
    "            \n",
    "            # rebalancing based on the rule at every time step\n",
    "            if path[j-1]<K and s_j>= K:\n",
    "                delta += 1\n",
    "                B -= s_j\n",
    "            if path[j-1]>K and s_j<=K:\n",
    "                delta -= 1\n",
    "                B += s_j\n",
    "            \n",
    "        # relative p&L\n",
    "        rel_PL = (-max(path[-1]-K,0)+delta*path[-1]+B)/c_0\n",
    "        res.append(rel_PL)\n",
    "    # mean and std \n",
    "    mu_MC = np.mean(res)\n",
    "    # I used unbiased standard deviation in A1, but Erik said we can use the built-in std then\n",
    "    # we used the built in std here.\n",
    "    std_MC = np.std(res)\n",
    "    \n",
    "    # now to calculate VaR and ES\n",
    "    pnl = np.array(res)\n",
    "    confidence_level = 0.95\n",
    "\n",
    "    # Calculate VaR at 95% confidence level\n",
    "    VaR_95 = np.percentile(pnl, 100 - (confidence_level * 100))\n",
    "\n",
    "    # Calculate Expected Shortfall (ES) at 95% confidence level\n",
    "    ES_95 = pnl[pnl <= VaR_95].mean()\n",
    "    \n",
    "    return mu_MC,std_MC,VaR_95,ES_95,res"
   ]
  },
  {
   "cell_type": "code",
   "execution_count": 20,
   "id": "b2db0fae-fda3-48ab-99b9-7672e64c508a",
   "metadata": {},
   "outputs": [
    {
     "data": {
      "text/html": [
       "<div>\n",
       "<style scoped>\n",
       "    .dataframe tbody tr th:only-of-type {\n",
       "        vertical-align: middle;\n",
       "    }\n",
       "\n",
       "    .dataframe tbody tr th {\n",
       "        vertical-align: top;\n",
       "    }\n",
       "\n",
       "    .dataframe thead th {\n",
       "        text-align: right;\n",
       "    }\n",
       "</style>\n",
       "<table border=\"1\" class=\"dataframe\">\n",
       "  <thead>\n",
       "    <tr style=\"text-align: right;\">\n",
       "      <th></th>\n",
       "      <th>Mean</th>\n",
       "      <th>Standard Dev</th>\n",
       "      <th>VaR</th>\n",
       "      <th>ES</th>\n",
       "    </tr>\n",
       "  </thead>\n",
       "  <tbody>\n",
       "    <tr>\n",
       "      <th>100</th>\n",
       "      <td>-0.583942</td>\n",
       "      <td>2.880730</td>\n",
       "      <td>-7.410545</td>\n",
       "      <td>-10.012754</td>\n",
       "    </tr>\n",
       "    <tr>\n",
       "      <th>200</th>\n",
       "      <td>-0.573314</td>\n",
       "      <td>2.857975</td>\n",
       "      <td>-7.302793</td>\n",
       "      <td>-9.975379</td>\n",
       "    </tr>\n",
       "    <tr>\n",
       "      <th>400</th>\n",
       "      <td>-0.556396</td>\n",
       "      <td>2.827293</td>\n",
       "      <td>-7.211235</td>\n",
       "      <td>-9.880254</td>\n",
       "    </tr>\n",
       "    <tr>\n",
       "      <th>800</th>\n",
       "      <td>-0.580959</td>\n",
       "      <td>2.870692</td>\n",
       "      <td>-7.390155</td>\n",
       "      <td>-10.005046</td>\n",
       "    </tr>\n",
       "  </tbody>\n",
       "</table>\n",
       "</div>"
      ],
      "text/plain": [
       "         Mean  Standard Dev       VaR         ES\n",
       "100 -0.583942      2.880730 -7.410545 -10.012754\n",
       "200 -0.573314      2.857975 -7.302793  -9.975379\n",
       "400 -0.556396      2.827293 -7.211235  -9.880254\n",
       "800 -0.580959      2.870692 -7.390155 -10.005046"
      ]
     },
     "execution_count": 20,
     "metadata": {},
     "output_type": "execute_result"
    }
   ],
   "source": [
    "table = []\n",
    "for N in tqdm.tqdm([100,200,400,800]):  \n",
    "    [mu_MC,std_MC,VaR_95,ES_95,res] = Rebalancing(N,c_0)\n",
    "    # Collect data in the list\n",
    "    table.append({'Mean': mu_MC, 'Standard Dev': std_MC,'VaR':VaR_95, 'ES':ES_95})\n",
    "    if N == 800:\n",
    "        relative_PnL800 = res\n",
    "#Table of Result\n",
    "df = pd.DataFrame(table,index=[100,200,400,800])\n",
    "df"
   ]
  },
  {
   "cell_type": "code",
   "execution_count": 24,
   "id": "2e6993dd-667e-4e3a-8787-cff0648298b1",
   "metadata": {},
   "outputs": [
    {
     "data": {
      "image/png": "[encoded data removed]",
      "text/plain": [
       "<Figure size 640x480 with 1 Axes>"
      ]
     },
     "metadata": {},
     "output_type": "display_data"
    }
   ],
   "source": [
    "# Plot the histogram 'Empirical Probability Density of P&L'\n",
    "plt.hist(relative_PnL800, bins=30, density=True, alpha=0.6, color='r')\n",
    "plt.title('Empirical Probability Density of P&L')\n",
    "plt.xlabel('P&L')\n",
    "plt.ylabel('Density')\n",
    "plt.show()"
   ]
  },
  {
   "cell_type": "code",
   "execution_count": null,
   "id": "f01b831a-b72a-4b24-9b87-ff8f25ae5bff",
   "metadata": {},
   "outputs": [],
   "source": []
  }
 ],
 "metadata": {
  "kernelspec": {
   "display_name": "Python 3",
   "language": "python",
   "name": "python3"
  },
  "language_info": {
   "codemirror_mode": {
    "name": "ipython",
    "version": 3
   },
   "file_extension": ".py",
   "mimetype": "text/x-python",
   "name": "python",
   "nbconvert_exporter": "python",
   "pygments_lexer": "ipython3",
   "version": "3.10.4"
  }
 },
 "nbformat": 4,
 "nbformat_minor": 5
}
