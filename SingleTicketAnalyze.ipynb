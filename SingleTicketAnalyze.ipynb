{
 "cells": [
  {
   "cell_type": "code",
   "execution_count": 1,
   "metadata": {},
   "outputs": [],
   "source": [
    "import pandas as pd\n",
    "import credentials\n",
    "import requests\n",
    "from sklearn.model_selection import train_test_split\n",
    "from sklearn.linear_model import LinearRegression\n",
    "import matplotlib.pyplot as plt\n",
    "import requests\n"
   ]
  },
  {
   "cell_type": "markdown",
   "metadata": {},
   "source": [
    "# Script to do the analysis on the single tickets from qualitative an quantitative point of view\n",
    "    "
   ]
  },
  {
   "cell_type": "markdown",
   "metadata": {},
   "source": []
  },
  {
   "cell_type": "code",
   "execution_count": 8,
   "metadata": {},
   "outputs": [],
   "source": [
    "# base url for FMP\n",
    "base_url = f\"https://financialmodelingprep.com/api/v3/\"\n",
    "symbol = 'AMD'\n",
    "api_key = credentials.API_KEY"
   ]
  },
  {
   "cell_type": "code",
   "execution_count": null,
   "metadata": {},
   "outputs": [],
   "source": []
  },
  {
   "cell_type": "code",
   "execution_count": 14,
   "metadata": {},
   "outputs": [
    {
     "data": {
      "text/html": [
       "<div>\n",
       "<style scoped>\n",
       "    .dataframe tbody tr th:only-of-type {\n",
       "        vertical-align: middle;\n",
       "    }\n",
       "\n",
       "    .dataframe tbody tr th {\n",
       "        vertical-align: top;\n",
       "    }\n",
       "\n",
       "    .dataframe thead th {\n",
       "        text-align: right;\n",
       "    }\n",
       "</style>\n",
       "<table border=\"1\" class=\"dataframe\">\n",
       "  <thead>\n",
       "    <tr style=\"text-align: right;\">\n",
       "      <th></th>\n",
       "      <th>revenuePerShareTTM</th>\n",
       "      <th>netIncomePerShareTTM</th>\n",
       "      <th>operatingCashFlowPerShareTTM</th>\n",
       "      <th>freeCashFlowPerShareTTM</th>\n",
       "      <th>cashPerShareTTM</th>\n",
       "      <th>bookValuePerShareTTM</th>\n",
       "      <th>tangibleBookValuePerShareTTM</th>\n",
       "      <th>shareholdersEquityPerShareTTM</th>\n",
       "      <th>interestDebtPerShareTTM</th>\n",
       "      <th>marketCapTTM</th>\n",
       "      <th>...</th>\n",
       "      <th>daysSalesOutstandingTTM</th>\n",
       "      <th>daysPayablesOutstandingTTM</th>\n",
       "      <th>daysOfInventoryOnHandTTM</th>\n",
       "      <th>receivablesTurnoverTTM</th>\n",
       "      <th>payablesTurnoverTTM</th>\n",
       "      <th>inventoryTurnoverTTM</th>\n",
       "      <th>roeTTM</th>\n",
       "      <th>capexPerShareTTM</th>\n",
       "      <th>dividendPerShareTTM</th>\n",
       "      <th>debtToMarketCapTTM</th>\n",
       "    </tr>\n",
       "  </thead>\n",
       "  <tbody>\n",
       "    <tr>\n",
       "      <th>0</th>\n",
       "      <td>13.68255</td>\n",
       "      <td>0.128713</td>\n",
       "      <td>1.146658</td>\n",
       "      <td>0.818069</td>\n",
       "      <td>3.579827</td>\n",
       "      <td>34.016089</td>\n",
       "      <td>5.466584</td>\n",
       "      <td>34.016089</td>\n",
       "      <td>1.831683</td>\n",
       "      <td>241129530000</td>\n",
       "      <td>...</td>\n",
       "      <td>83.446022</td>\n",
       "      <td>67.392466</td>\n",
       "      <td>133.434082</td>\n",
       "      <td>4.374085</td>\n",
       "      <td>5.416036</td>\n",
       "      <td>2.735433</td>\n",
       "      <td>0.00379</td>\n",
       "      <td>-0.328589</td>\n",
       "      <td>0</td>\n",
       "      <td>0.011869</td>\n",
       "    </tr>\n",
       "  </tbody>\n",
       "</table>\n",
       "<p>1 rows × 60 columns</p>\n",
       "</div>"
      ],
      "text/plain": [
       "   revenuePerShareTTM  netIncomePerShareTTM  operatingCashFlowPerShareTTM  \\\n",
       "0            13.68255              0.128713                      1.146658   \n",
       "\n",
       "   freeCashFlowPerShareTTM  cashPerShareTTM  bookValuePerShareTTM  \\\n",
       "0                 0.818069         3.579827             34.016089   \n",
       "\n",
       "   tangibleBookValuePerShareTTM  shareholdersEquityPerShareTTM  \\\n",
       "0                      5.466584                      34.016089   \n",
       "\n",
       "   interestDebtPerShareTTM  marketCapTTM  ...  daysSalesOutstandingTTM  \\\n",
       "0                 1.831683  241129530000  ...                83.446022   \n",
       "\n",
       "   daysPayablesOutstandingTTM  daysOfInventoryOnHandTTM  \\\n",
       "0                   67.392466                133.434082   \n",
       "\n",
       "   receivablesTurnoverTTM  payablesTurnoverTTM  inventoryTurnoverTTM   roeTTM  \\\n",
       "0                4.374085             5.416036              2.735433  0.00379   \n",
       "\n",
       "   capexPerShareTTM  dividendPerShareTTM  debtToMarketCapTTM  \n",
       "0         -0.328589                    0            0.011869  \n",
       "\n",
       "[1 rows x 60 columns]"
      ]
     },
     "execution_count": 14,
     "metadata": {},
     "output_type": "execute_result"
    }
   ],
   "source": [
    "# Income_statement\n",
    "def fetach_income_statment(symbol,api_key,base_url,period):\n",
    "    period = 'Annual'\n",
    "    endpoint = f\"{base_url}income-statement/{symbol}?period={period}&apikey={api_key}\"\n",
    "    response = requests.get(endpoint)\n",
    "    data = response.json()\n",
    "    \n",
    "    return pd.DataFrame(data)\n",
    "\n",
    "# Key Metric TTM\n",
    "\n",
    "\n",
    "#https://financialmodelingprep.com/api/v3/key-metrics-ttm/AAPL\n",
    "\n",
    "period = 'Annual'\n",
    "endpoint = f\"{base_url}key-metrics-ttm/{symbol}?&apikey={api_key}\"\n",
    "response = requests.get(endpoint)\n",
    "data = response.json()\n",
    "pd.DataFrame(data)"
   ]
  },
  {
   "cell_type": "code",
   "execution_count": null,
   "metadata": {},
   "outputs": [],
   "source": [
    "def "
   ]
  },
  {
   "cell_type": "code",
   "execution_count": null,
   "metadata": {},
   "outputs": [],
   "source": [
    "class Ticket()"
   ]
  }
 ],
 "metadata": {
  "kernelspec": {
   "display_name": "Python 3",
   "language": "python",
   "name": "python3"
  },
  "language_info": {
   "codemirror_mode": {
    "name": "ipython",
    "version": 3
   },
   "file_extension": ".py",
   "mimetype": "text/x-python",
   "name": "python",
   "nbconvert_exporter": "python",
   "pygments_lexer": "ipython3",
   "version": "3.9.16"
  }
 },
 "nbformat": 4,
 "nbformat_minor": 2
}
