{
 "cells": [
  {
   "cell_type": "code",
   "execution_count": 1,
   "metadata": {},
   "outputs": [],
   "source": [
    "import pandas as pd\n",
    "import credentials\n",
    "import requests\n",
    "from sklearn.model_selection import train_test_split\n",
    "from sklearn.linear_model import LinearRegression\n",
    "import matplotlib.pyplot as plt\n",
    "import requests\n"
   ]
  },
  {
   "cell_type": "markdown",
   "metadata": {},
   "source": [
    "# Script to do the analysis on the single tickets from qualitative an quantitative point of view\n",
    "    "
   ]
  },
  {
   "cell_type": "markdown",
   "metadata": {},
   "source": []
  },
  {
   "cell_type": "code",
   "execution_count": 16,
   "metadata": {},
   "outputs": [],
   "source": [
    "# base url for FMP\n",
    "base_url_v3 = f\"https://financialmodelingprep.com/api/v3/\"\n",
    "base_url_v4 = f\"https://financialmodelingprep.com/api/v4/\"\n",
    "symbol = 'AMD'\n",
    "api_key = credentials.API_KEY"
   ]
  },
  {
   "cell_type": "code",
   "execution_count": null,
   "metadata": {},
   "outputs": [],
   "source": [
    "https://financialmodelingprep.com/api/v4/standard_industrial_classification?symbol=AMD&apikey=ubL79PDEEfIcIAa5pc16pF7KsIwpP00H"
   ]
  },
  {
   "cell_type": "code",
   "execution_count": 28,
   "metadata": {},
   "outputs": [],
   "source": [
    "# Income_statement\n",
    "def fetch_income_statment(symbol,api_key,base_url,period):\n",
    "    #period = 'Annual'\n",
    "    endpoint = f\"{base_url}income-statement/{symbol}?period={period}&apikey={api_key}\"\n",
    "    response = requests.get(endpoint)\n",
    "    data = response.json()\n",
    "    \n",
    "    return pd.DataFrame(data)\n",
    "\n",
    "# Key Metric TTM\n",
    "\n",
    "\n",
    "#https://financialmodelingprep.com/api/v3/key-metrics-ttm/AAPL\n",
    "def fetch_Key_Metrics_TTM(symbol,api_key,base_url,period):\n",
    "    #period = 'Annual'\n",
    "    endpoint = f\"{base_url}key-metrics-ttm/{symbol}?&apikey={api_key}\"\n",
    "    response = requests.get(endpoint)\n",
    "    data = response.json()\n",
    "    return pd.DataFrame(data)\n",
    "\n",
    "def fetch_Industry(symbol,api_key,base_url):\n",
    "    \n",
    "    endpoint = f\"{base_url_v4}standard_industrial_classification?symbol={symbol}&apikey={api_key}\"\n",
    "    response = requests.get(endpoint)\n",
    "    data = response.json()\n",
    "    return  pd.DataFrame(data)['industryTitle'][0]\n",
    "\n",
    "def fetch_Industry_pe(symbol,api_key,base_url):\n",
    "    industry = fetch_Industry(symbol,api_key,base_url)\n",
    "    endpoint = f\"{base_url_v4}standard_industrial_classification?symbol={symbol}&apikey={api_key}\"\n",
    "    response = requests.get(endpoint)\n",
    "    data = response.json()\n",
    "\n"
   ]
  },
  {
   "cell_type": "code",
   "execution_count": 27,
   "metadata": {},
   "outputs": [
    {
     "data": {
      "text/plain": [
       "'SEMICONDUCTORS & RELATED DEVICES'"
      ]
     },
     "execution_count": 27,
     "metadata": {},
     "output_type": "execute_result"
    }
   ],
   "source": [
    "https://financialmodelingprep.com/api/v4/standard_industrial_classification?symbol=AMD&apikey=ubL79PDEEfIcIAa5pc16pF7KsIwpP00H"
   ]
  },
  {
   "cell_type": "code",
   "execution_count": null,
   "metadata": {},
   "outputs": [],
   "source": [
    "https://financialmodelingprep.com/api/v4/standard_industrial_classification?symbol=AAPL&apikey=VNXDt0MnA1vfJUpQMz4lLG2dXb9PAH0z"
   ]
  }
 ],
 "metadata": {
  "kernelspec": {
   "display_name": "Python 3",
   "language": "python",
   "name": "python3"
  },
  "language_info": {
   "codemirror_mode": {
    "name": "ipython",
    "version": 3
   },
   "file_extension": ".py",
   "mimetype": "text/x-python",
   "name": "python",
   "nbconvert_exporter": "python",
   "pygments_lexer": "ipython3",
   "version": "3.9.16"
  }
 },
 "nbformat": 4,
 "nbformat_minor": 2
}
